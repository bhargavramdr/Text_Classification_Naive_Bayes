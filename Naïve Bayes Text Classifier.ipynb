{
 "cells": [
  {
   "cell_type": "markdown",
   "id": "8b77cf40",
   "metadata": {},
   "source": [
    "### Naïve Bayes Text Classifier"
   ]
  },
  {
   "cell_type": "code",
   "execution_count": 1,
   "id": "8f2c2412",
   "metadata": {},
   "outputs": [],
   "source": [
    "import pandas as pd\n",
    "import numpy as np\n",
    "from nltk.tokenize import word_tokenize\n",
    "from nltk import pos_tag\n",
    "from nltk.corpus import stopwords\n",
    "from nltk.stem import WordNetLemmatizer\n",
    "from sklearn.preprocessing import LabelEncoder\n",
    "from collections import defaultdict\n",
    "from nltk.corpus import wordnet as wn\n",
    "from sklearn.feature_extraction.text import TfidfVectorizer\n",
    "from sklearn import model_selection, naive_bayes\n",
    "from sklearn.metrics import accuracy_score"
   ]
  },
  {
   "cell_type": "code",
   "execution_count": 3,
   "id": "d49b0355",
   "metadata": {},
   "outputs": [],
   "source": [
    "corpus_1 = pd.read_csv(\"amezon.csv\", encoding = \"latin-1\")\n"
   ]
  },
  {
   "cell_type": "code",
   "execution_count": null,
   "id": "ceacfc5f",
   "metadata": {},
   "outputs": [],
   "source": [
    "corpus_1['text'].dropna(inplace=True)\n",
    "corpus_1['text'] = [i.lower() for i in corpus_1['text']]\n",
    "corpus_1['text'] = [word_tokenize(i) for i in corpus_1['text']]"
   ]
  },
  {
   "cell_type": "code",
   "execution_count": 10,
   "id": "9453649e",
   "metadata": {},
   "outputs": [],
   "source": [
    "\n",
    "tag = defaultdict(lambda : wn.NOUN)\n",
    "tag['J'] = wn.ADJ\n",
    "tag['V'] = wn.VERB\n",
    "tag['R'] = wn.ADV"
   ]
  },
  {
   "cell_type": "code",
   "execution_count": 13,
   "id": "66f7fd2a",
   "metadata": {},
   "outputs": [],
   "source": [
    "for index,entry in enumerate(corpus_1['text']):\n",
    "\n",
    "    Final_words = []\n",
    "    \n",
    "\n",
    "    word_Lemmatized = WordNetLemmatizer()\n",
    "    \n",
    "\n",
    "    for word, tagx in pos_tag(entry):\n",
    "        \n",
    "\n",
    "        if word not in stopwords.words('english') and word.isalpha():\n",
    "            word_Final = word_Lemmatized.lemmatize(word,tag[tagx[0]])\n",
    "            Final_words.append(word_Final)\n",
    "            \n",
    "\n",
    "    corpus_1.loc[index,'text_final'] = str(Final_words)\n"
   ]
  },
  {
   "cell_type": "code",
   "execution_count": 14,
   "id": "a678f956",
   "metadata": {},
   "outputs": [],
   "source": [
    "Train_X, Test_X, Train_Y, Test_Y = model_selection.train_test_split(corpus_1['text_final'], corpus_1['label'],test_size=0.3)"
   ]
  },
  {
   "cell_type": "code",
   "execution_count": 15,
   "id": "c5ac4664",
   "metadata": {},
   "outputs": [],
   "source": [
    "Encoder = LabelEncoder()\n",
    "Train_Y = Encoder.fit_transform(Train_Y)\n",
    "Test_Y = Encoder.fit_transform(Test_Y)"
   ]
  },
  {
   "cell_type": "code",
   "execution_count": 17,
   "id": "79c88d8f",
   "metadata": {},
   "outputs": [],
   "source": [
    "vect = TfidfVectorizer(max_features=5000)\n",
    "vect.fit(corpus_1['text_final'])\n",
    "\n",
    "Train_X_v = vect.transform(Train_X)\n",
    "Test_X_v = vect.transform(Test_X)\n"
   ]
  },
  {
   "cell_type": "markdown",
   "id": "c18d168f",
   "metadata": {},
   "source": [
    "### Multinominal Naive Bayes"
   ]
  },
  {
   "cell_type": "code",
   "execution_count": 18,
   "id": "a3c56a26",
   "metadata": {},
   "outputs": [
    {
     "data": {
      "text/plain": [
       "MultinomialNB()"
      ]
     },
     "execution_count": 18,
     "metadata": {},
     "output_type": "execute_result"
    }
   ],
   "source": [
    "Naive = naive_bayes.MultinomialNB()\n",
    "Naive.fit(Train_X_v,Train_Y)"
   ]
  },
  {
   "cell_type": "code",
   "execution_count": 23,
   "id": "9138344e",
   "metadata": {},
   "outputs": [],
   "source": [
    "Naive_g = naive_bayes.GaussianNB()"
   ]
  },
  {
   "cell_type": "code",
   "execution_count": 19,
   "id": "aea29f26",
   "metadata": {},
   "outputs": [],
   "source": [
    "predictions_NB = Naive.predict(Test_X_v)"
   ]
  },
  {
   "cell_type": "code",
   "execution_count": 20,
   "id": "19d5c32b",
   "metadata": {},
   "outputs": [
    {
     "name": "stdout",
     "output_type": "stream",
     "text": [
      "Naive Bayes Accuracy Score ->  84.06666666666666\n"
     ]
    }
   ],
   "source": [
    "print(\"Naive Bayes Accuracy Score -> \",accuracy_score(predictions_NB, Test_Y)*100)"
   ]
  },
  {
   "cell_type": "markdown",
   "id": "f23f802b",
   "metadata": {},
   "source": [
    "### Gaussian Naive Bayes"
   ]
  },
  {
   "cell_type": "code",
   "execution_count": 33,
   "id": "4be5ff22",
   "metadata": {},
   "outputs": [],
   "source": [
    "\n",
    "Train_X_a = Train_X_v.toarray()\n"
   ]
  },
  {
   "cell_type": "code",
   "execution_count": 37,
   "id": "c923759d",
   "metadata": {},
   "outputs": [],
   "source": [
    "Test_X_a = Test_X_v.toarray()"
   ]
  },
  {
   "cell_type": "code",
   "execution_count": 35,
   "id": "72ad5992",
   "metadata": {},
   "outputs": [],
   "source": [
    "prediction_g = Naive_g.fit(Train_X_a, Train_Y)"
   ]
  },
  {
   "cell_type": "code",
   "execution_count": 38,
   "id": "f687912a",
   "metadata": {},
   "outputs": [],
   "source": [
    "predictions_g = Naive_g.predict(Test_X_a)"
   ]
  },
  {
   "cell_type": "code",
   "execution_count": 39,
   "id": "2c01f330",
   "metadata": {},
   "outputs": [
    {
     "name": "stdout",
     "output_type": "stream",
     "text": [
      "Gaussian Naive Bayes Accuracy Score ->  71.56666666666666\n"
     ]
    }
   ],
   "source": [
    "print(\"Gaussian Naive Bayes Accuracy Score -> \",accuracy_score(predictions_g, Test_Y)*100)"
   ]
  },
  {
   "cell_type": "code",
   "execution_count": null,
   "id": "1067e694",
   "metadata": {},
   "outputs": [],
   "source": []
  }
 ],
 "metadata": {
  "kernelspec": {
   "display_name": "Python 3 (ipykernel)",
   "language": "python",
   "name": "python3"
  },
  "language_info": {
   "codemirror_mode": {
    "name": "ipython",
    "version": 3
   },
   "file_extension": ".py",
   "mimetype": "text/x-python",
   "name": "python",
   "nbconvert_exporter": "python",
   "pygments_lexer": "ipython3",
   "version": "3.9.7"
  }
 },
 "nbformat": 4,
 "nbformat_minor": 5
}
